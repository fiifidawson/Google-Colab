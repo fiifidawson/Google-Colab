{
  "nbformat": 4,
  "nbformat_minor": 0,
  "metadata": {
    "colab": {
      "provenance": [],
      "authorship_tag": "ABX9TyPBWVSgkxjeq1uBtIvpIB5b",
      "include_colab_link": true
    },
    "kernelspec": {
      "name": "python3",
      "display_name": "Python 3"
    },
    "language_info": {
      "name": "python"
    }
  },
  "cells": [
    {
      "cell_type": "markdown",
      "metadata": {
        "id": "view-in-github",
        "colab_type": "text"
      },
      "source": [
        "<a href=\"https://colab.research.google.com/github/fiifidawson/Google-Colab/blob/main/BERT_skillc.ipynb\" target=\"_parent\"><img src=\"https://colab.research.google.com/assets/colab-badge.svg\" alt=\"Open In Colab\"/></a>"
      ]
    },
    {
      "cell_type": "markdown",
      "source": [
        "## BERT Walkthrough"
      ],
      "metadata": {
        "id": "QbRRq3CgeSw-"
      }
    },
    {
      "cell_type": "code",
      "source": [
        "## Setting up environment\n",
        "!pip install transformers"
      ],
      "metadata": {
        "colab": {
          "base_uri": "https://localhost:8080/"
        },
        "id": "NKwpq8gAeiek",
        "outputId": "f05d9988-81fd-47c4-f99d-81d6e1c3eee8"
      },
      "execution_count": 1,
      "outputs": [
        {
          "output_type": "stream",
          "name": "stdout",
          "text": [
            "Requirement already satisfied: transformers in /usr/local/lib/python3.10/dist-packages (4.41.1)\n",
            "Requirement already satisfied: filelock in /usr/local/lib/python3.10/dist-packages (from transformers) (3.14.0)\n",
            "Requirement already satisfied: huggingface-hub<1.0,>=0.23.0 in /usr/local/lib/python3.10/dist-packages (from transformers) (0.23.1)\n",
            "Requirement already satisfied: numpy>=1.17 in /usr/local/lib/python3.10/dist-packages (from transformers) (1.25.2)\n",
            "Requirement already satisfied: packaging>=20.0 in /usr/local/lib/python3.10/dist-packages (from transformers) (24.0)\n",
            "Requirement already satisfied: pyyaml>=5.1 in /usr/local/lib/python3.10/dist-packages (from transformers) (6.0.1)\n",
            "Requirement already satisfied: regex!=2019.12.17 in /usr/local/lib/python3.10/dist-packages (from transformers) (2024.5.15)\n",
            "Requirement already satisfied: requests in /usr/local/lib/python3.10/dist-packages (from transformers) (2.31.0)\n",
            "Requirement already satisfied: tokenizers<0.20,>=0.19 in /usr/local/lib/python3.10/dist-packages (from transformers) (0.19.1)\n",
            "Requirement already satisfied: safetensors>=0.4.1 in /usr/local/lib/python3.10/dist-packages (from transformers) (0.4.3)\n",
            "Requirement already satisfied: tqdm>=4.27 in /usr/local/lib/python3.10/dist-packages (from transformers) (4.66.4)\n",
            "Requirement already satisfied: fsspec>=2023.5.0 in /usr/local/lib/python3.10/dist-packages (from huggingface-hub<1.0,>=0.23.0->transformers) (2023.6.0)\n",
            "Requirement already satisfied: typing-extensions>=3.7.4.3 in /usr/local/lib/python3.10/dist-packages (from huggingface-hub<1.0,>=0.23.0->transformers) (4.11.0)\n",
            "Requirement already satisfied: charset-normalizer<4,>=2 in /usr/local/lib/python3.10/dist-packages (from requests->transformers) (3.3.2)\n",
            "Requirement already satisfied: idna<4,>=2.5 in /usr/local/lib/python3.10/dist-packages (from requests->transformers) (3.7)\n",
            "Requirement already satisfied: urllib3<3,>=1.21.1 in /usr/local/lib/python3.10/dist-packages (from requests->transformers) (2.0.7)\n",
            "Requirement already satisfied: certifi>=2017.4.17 in /usr/local/lib/python3.10/dist-packages (from requests->transformers) (2024.2.2)\n"
          ]
        }
      ]
    },
    {
      "cell_type": "code",
      "source": [
        "from transformers import pipeline\n",
        "unmasker = pipeline('fill-mask', model='bert-base-uncased')"
      ],
      "metadata": {
        "colab": {
          "base_uri": "https://localhost:8080/"
        },
        "id": "0HoFaFB_e3BV",
        "outputId": "4af03d25-fd9b-48f6-85b1-19bc3aac273a"
      },
      "execution_count": 3,
      "outputs": [
        {
          "output_type": "stream",
          "name": "stderr",
          "text": [
            "Some weights of the model checkpoint at bert-base-uncased were not used when initializing BertForMaskedLM: ['bert.pooler.dense.bias', 'bert.pooler.dense.weight', 'cls.seq_relationship.bias', 'cls.seq_relationship.weight']\n",
            "- This IS expected if you are initializing BertForMaskedLM from the checkpoint of a model trained on another task or with another architecture (e.g. initializing a BertForSequenceClassification model from a BertForPreTraining model).\n",
            "- This IS NOT expected if you are initializing BertForMaskedLM from the checkpoint of a model that you expect to be exactly identical (initializing a BertForSequenceClassification model from a BertForSequenceClassification model).\n"
          ]
        }
      ]
    },
    {
      "cell_type": "markdown",
      "source": [
        "### Query BERTbase Model"
      ],
      "metadata": {
        "id": "JNozHUGafLW3"
      }
    },
    {
      "cell_type": "code",
      "source": [
        "unmasker(\"DICOM is a [MASK] used in image processing\")"
      ],
      "metadata": {
        "colab": {
          "base_uri": "https://localhost:8080/"
        },
        "id": "GtsZPxfKfY2q",
        "outputId": "95866208-a685-455a-c43b-86a8a147f785"
      },
      "execution_count": 5,
      "outputs": [
        {
          "output_type": "execute_result",
          "data": {
            "text/plain": [
              "[{'score': 0.26952794194221497,\n",
              "  'token': 6028,\n",
              "  'token_str': 'technique',\n",
              "  'sequence': 'dicom is a technique used in image processing'},\n",
              " {'score': 0.09422843158245087,\n",
              "  'token': 2974,\n",
              "  'token_str': 'technology',\n",
              "  'sequence': 'dicom is a technology used in image processing'},\n",
              " {'score': 0.08256924152374268,\n",
              "  'token': 2832,\n",
              "  'token_str': 'process',\n",
              "  'sequence': 'dicom is a process used in image processing'},\n",
              " {'score': 0.05050798878073692,\n",
              "  'token': 2744,\n",
              "  'token_str': 'term',\n",
              "  'sequence': 'dicom is a term used in image processing'},\n",
              " {'score': 0.03886563703417778,\n",
              "  'token': 4118,\n",
              "  'token_str': 'method',\n",
              "  'sequence': 'dicom is a method used in image processing'}]"
            ]
          },
          "metadata": {},
          "execution_count": 5
        }
      ]
    },
    {
      "cell_type": "code",
      "source": [
        "unmasker(\"The medical doctor informed the patient that [MASK] dementia was uncurable\")"
      ],
      "metadata": {
        "colab": {
          "base_uri": "https://localhost:8080/"
        },
        "id": "ats_WTcfgbhC",
        "outputId": "22873f70-051e-49c0-e2c6-03b42392e450"
      },
      "execution_count": 6,
      "outputs": [
        {
          "output_type": "execute_result",
          "data": {
            "text/plain": [
              "[{'score': 0.5210392475128174,\n",
              "  'token': 2010,\n",
              "  'token_str': 'his',\n",
              "  'sequence': 'the medical doctor informed the patient that his dementia was uncurable'},\n",
              " {'score': 0.27449560165405273,\n",
              "  'token': 1996,\n",
              "  'token_str': 'the',\n",
              "  'sequence': 'the medical doctor informed the patient that the dementia was uncurable'},\n",
              " {'score': 0.1467207968235016,\n",
              "  'token': 2014,\n",
              "  'token_str': 'her',\n",
              "  'sequence': 'the medical doctor informed the patient that her dementia was uncurable'},\n",
              " {'score': 0.025595014914870262,\n",
              "  'token': 2037,\n",
              "  'token_str': 'their',\n",
              "  'sequence': 'the medical doctor informed the patient that their dementia was uncurable'},\n",
              " {'score': 0.008422678336501122,\n",
              "  'token': 2023,\n",
              "  'token_str': 'this',\n",
              "  'sequence': 'the medical doctor informed the patient that this dementia was uncurable'}]"
            ]
          },
          "metadata": {},
          "execution_count": 6
        }
      ]
    },
    {
      "cell_type": "code",
      "source": [
        "unmasker(\"The little boy told [MASK] mother that he'd like to be a pilot when he grows up.\")"
      ],
      "metadata": {
        "colab": {
          "base_uri": "https://localhost:8080/"
        },
        "id": "gbrgwDyUgvPY",
        "outputId": "4e70eb0f-4f9b-4de3-9cc2-f74e097aefd0"
      },
      "execution_count": 7,
      "outputs": [
        {
          "output_type": "execute_result",
          "data": {
            "text/plain": [
              "[{'score': 0.9826750755310059,\n",
              "  'token': 2010,\n",
              "  'token_str': 'his',\n",
              "  'sequence': \"the little boy told his mother that he'd like to be a pilot when he grows up.\"},\n",
              " {'score': 0.013671563006937504,\n",
              "  'token': 1996,\n",
              "  'token_str': 'the',\n",
              "  'sequence': \"the little boy told the mother that he'd like to be a pilot when he grows up.\"},\n",
              " {'score': 0.0015210631536319852,\n",
              "  'token': 2037,\n",
              "  'token_str': 'their',\n",
              "  'sequence': \"the little boy told their mother that he'd like to be a pilot when he grows up.\"},\n",
              " {'score': 0.0006214530440047383,\n",
              "  'token': 2026,\n",
              "  'token_str': 'my',\n",
              "  'sequence': \"the little boy told my mother that he'd like to be a pilot when he grows up.\"},\n",
              " {'score': 0.0005180602893233299,\n",
              "  'token': 2014,\n",
              "  'token_str': 'her',\n",
              "  'sequence': \"the little boy told her mother that he'd like to be a pilot when he grows up.\"}]"
            ]
          },
          "metadata": {},
          "execution_count": 7
        }
      ]
    }
  ]
}